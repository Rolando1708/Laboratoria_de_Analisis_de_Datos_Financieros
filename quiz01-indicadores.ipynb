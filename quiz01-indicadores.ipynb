{
 "cells": [
  {
   "cell_type": "markdown",
   "id": "ad754eab",
   "metadata": {},
   "source": [
    "# Quiz 1\n",
    "\n",
    "## Pregunta 1\n",
    "\n",
    "### Contexto del Caso:\n",
    "\n",
    "#### Contexto de la Compañía:\n",
    "\n",
    "AlfaTech es una empresa de desarrollo de software que se especializa en soluciones para la gestión de recursos humanos. La empresa ha estado enfrentando desafíos para mantener la eficiencia operativa mientras escala rápidamente para atender a un mercado más amplio.\n",
    "\n",
    "#### Datos Disponibles:\n",
    "\n",
    "- Ingresos Mensuales\n",
    "- Horas de Mantenimiento del Sistema\n",
    "- Tickets de Soporte Mensuales\n",
    "- Costos de Operaciones\n",
    "- Satisfacción del Cliente\n",
    "- Web_Traffic\n",
    "\n",
    "#### Problema:\n",
    "\n",
    "Recientemente, AlfaTech ha experimentado un aumento en los tickets de soporte, lo que ha afectado la satisfacción general del cliente. El equipo directivo desea monitorear un KPI operacional que les permita evaluar y mejorar la eficiencia del soporte técnico.\n",
    "\n",
    "#### Pregunta:\n",
    "\n",
    "¿Cuál de los siguientes KPIs sería el más adecuado para que AlfaTech monitoree la eficiencia del soporte técnico y tome medidas correctivas?\n",
    "\n",
    "1. Ingresos Mensuales (Ingresos totales generados en un mes)\n",
    "2. Horas de Mantenimiento del Sistema (Total de horas dedicadas al mantenimiento de sistemas en un mes)\n",
    "3. Tickets de Soporte Mensuales (Número total de tickets de soporte generados por los usuarios en un mes)\n",
    "4. Costos de Operaciones (Gastos totales relacionados con las operaciones del negocio en un mes)"
   ]
  },
  {
   "cell_type": "markdown",
   "id": "6402a36e",
   "metadata": {},
   "source": [
    "El KPI mas adecuado para AlfaTech seria el de Costos de Operaciones ya que este mas que nada ayudaria a mejorar las operaciones del soporte técnico, ayudando a que no se acumulen tanto los tickets y que se puedan resolver los problemas de la manera mas rapida y mejor manera"
   ]
  },
  {
   "cell_type": "markdown",
   "id": "5a103796",
   "metadata": {},
   "source": [
    "## Pregunta 2\n",
    "\n",
    "Este conjunto de datos representa transacciones de clientes múltiples con diferentes cohortes y varias transacciones. Cada fila es una transacción, donde 'State' puede ser 'Active' (activa) o 'Cancelled' (cancelada). Solo las transacciones activas contribuyen al cálculo del CLTV."
   ]
  },
  {
   "cell_type": "code",
   "execution_count": 1,
   "id": "60e5d8b9",
   "metadata": {},
   "outputs": [
    {
     "name": "stderr",
     "output_type": "stream",
     "text": [
      "/var/folders/hp/74fh93z51nbgcfx2dccxw8w80000gn/T/ipykernel_1417/643165339.py:6: FutureWarning: 'M' is deprecated and will be removed in a future version, please use 'ME' instead.\n",
      "  dates = pd.date_range(start=\"2019-01-01\", end=\"2021-12-31\", freq='M')\n"
     ]
    }
   ],
   "source": [
    "import pandas as pd\n",
    "import numpy as np\n",
    "\n",
    "np.random.seed(42)\n",
    "\n",
    "dates = pd.date_range(start=\"2019-01-01\", end=\"2021-12-31\", freq='M')\n",
    "cohorts = ['2019-01', '2019-06', '2020-01', '2020-06', '2021-01']\n",
    "\n",
    "num_customers = 100\n",
    "customer_ids = np.arange(1, num_customers + 1)\n",
    "customer_cohorts = np.random.choice(cohorts, size=num_customers, replace=True)\n",
    "\n",
    "customers_df = pd.DataFrame({\n",
    "    'Customer_ID': customer_ids,\n",
    "    'Cohort': customer_cohorts\n",
    "})\n",
    "\n",
    "transactions = []\n",
    "\n",
    "for index, row in customers_df.iterrows():\n",
    "    num_transactions = np.random.poisson(5) \n",
    "    transaction_dates = np.sort(np.random.choice(dates, size=num_transactions, replace=False))\n",
    "    \n",
    "    for date in transaction_dates:\n",
    "        amount = np.random.normal(100, 20)  \n",
    "        state = 'Active' if np.random.rand() > 0.1 else 'Cancelled'\n",
    "        transactions.append([row['Customer_ID'], row['Cohort'], date, amount, state])\n",
    "\n",
    "transactions_df = pd.DataFrame(transactions, columns=['Customer_ID', 'Cohort', 'Transaction_Date', 'Amount', 'State'])"
   ]
  },
  {
   "cell_type": "markdown",
   "id": "309c3934",
   "metadata": {},
   "source": [
    "Dado el conjunto de datos, calcule el CLTV que llevamos adquirido del cliente con ID 007. Asuma que el margen de beneficio es del 20%."
   ]
  },
  {
   "cell_type": "code",
   "execution_count": 47,
   "id": "7354fe72",
   "metadata": {},
   "outputs": [
    {
     "data": {
      "text/html": [
       "<div>\n",
       "<style scoped>\n",
       "    .dataframe tbody tr th:only-of-type {\n",
       "        vertical-align: middle;\n",
       "    }\n",
       "\n",
       "    .dataframe tbody tr th {\n",
       "        vertical-align: top;\n",
       "    }\n",
       "\n",
       "    .dataframe thead th {\n",
       "        text-align: right;\n",
       "    }\n",
       "</style>\n",
       "<table border=\"1\" class=\"dataframe\">\n",
       "  <thead>\n",
       "    <tr style=\"text-align: right;\">\n",
       "      <th></th>\n",
       "      <th>Customer_ID</th>\n",
       "      <th>Cohort</th>\n",
       "      <th>Transaction_Date</th>\n",
       "      <th>Amount</th>\n",
       "      <th>State</th>\n",
       "    </tr>\n",
       "  </thead>\n",
       "  <tbody>\n",
       "    <tr>\n",
       "      <th>31</th>\n",
       "      <td>7</td>\n",
       "      <td>2020-01</td>\n",
       "      <td>2019-06-30</td>\n",
       "      <td>121.935925</td>\n",
       "      <td>Active</td>\n",
       "    </tr>\n",
       "    <tr>\n",
       "      <th>32</th>\n",
       "      <td>7</td>\n",
       "      <td>2020-01</td>\n",
       "      <td>2019-07-31</td>\n",
       "      <td>75.235383</td>\n",
       "      <td>Active</td>\n",
       "    </tr>\n",
       "    <tr>\n",
       "      <th>33</th>\n",
       "      <td>7</td>\n",
       "      <td>2020-01</td>\n",
       "      <td>2021-01-31</td>\n",
       "      <td>83.506973</td>\n",
       "      <td>Active</td>\n",
       "    </tr>\n",
       "    <tr>\n",
       "      <th>34</th>\n",
       "      <td>7</td>\n",
       "      <td>2020-01</td>\n",
       "      <td>2021-04-30</td>\n",
       "      <td>110.588710</td>\n",
       "      <td>Cancelled</td>\n",
       "    </tr>\n",
       "    <tr>\n",
       "      <th>35</th>\n",
       "      <td>7</td>\n",
       "      <td>2020-01</td>\n",
       "      <td>2021-07-31</td>\n",
       "      <td>96.322165</td>\n",
       "      <td>Active</td>\n",
       "    </tr>\n",
       "  </tbody>\n",
       "</table>\n",
       "</div>"
      ],
      "text/plain": [
       "    Customer_ID   Cohort Transaction_Date      Amount      State\n",
       "31            7  2020-01       2019-06-30  121.935925     Active\n",
       "32            7  2020-01       2019-07-31   75.235383     Active\n",
       "33            7  2020-01       2021-01-31   83.506973     Active\n",
       "34            7  2020-01       2021-04-30  110.588710  Cancelled\n",
       "35            7  2020-01       2021-07-31   96.322165     Active"
      ]
     },
     "execution_count": 47,
     "metadata": {},
     "output_type": "execute_result"
    }
   ],
   "source": [
    "Customer7 = transactions_df.query(\"Customer_ID == 7\")\n",
    "Customer7"
   ]
  },
  {
   "cell_type": "code",
   "execution_count": 49,
   "id": "a97b3a8b-66ff-42c6-90f8-de158e94d9b0",
   "metadata": {},
   "outputs": [],
   "source": [
    "Amount_Customer7 = Customer7[\"Amount\"]"
   ]
  },
  {
   "cell_type": "code",
   "execution_count": 53,
   "id": "a7403055-e30d-4ccb-9a1a-f985521e9205",
   "metadata": {},
   "outputs": [
    {
     "data": {
      "text/plain": [
       "31    24.387185\n",
       "32    15.047077\n",
       "33    16.701395\n",
       "34    22.117742\n",
       "35    19.264433\n",
       "Name: Amount, dtype: float64"
      ]
     },
     "execution_count": 53,
     "metadata": {},
     "output_type": "execute_result"
    }
   ],
   "source": [
    "cltv=Amount_Customer7*0.2\n",
    "cltv"
   ]
  },
  {
   "cell_type": "code",
   "execution_count": 43,
   "id": "fbd74596-d7f0-4673-966e-db6850868e59",
   "metadata": {},
   "outputs": [
    {
     "data": {
      "text/html": [
       "<div>\n",
       "<style scoped>\n",
       "    .dataframe tbody tr th:only-of-type {\n",
       "        vertical-align: middle;\n",
       "    }\n",
       "\n",
       "    .dataframe tbody tr th {\n",
       "        vertical-align: top;\n",
       "    }\n",
       "\n",
       "    .dataframe thead th {\n",
       "        text-align: right;\n",
       "    }\n",
       "</style>\n",
       "<table border=\"1\" class=\"dataframe\">\n",
       "  <thead>\n",
       "    <tr style=\"text-align: right;\">\n",
       "      <th></th>\n",
       "      <th>Customer_ID</th>\n",
       "      <th>Cohort</th>\n",
       "      <th>Transaction_Date</th>\n",
       "      <th>Amount</th>\n",
       "      <th>State</th>\n",
       "    </tr>\n",
       "  </thead>\n",
       "  <tbody>\n",
       "    <tr>\n",
       "      <th>0</th>\n",
       "      <td>1</td>\n",
       "      <td>2020-06</td>\n",
       "      <td>2019-02-28</td>\n",
       "      <td>97.894857</td>\n",
       "      <td>Active</td>\n",
       "    </tr>\n",
       "    <tr>\n",
       "      <th>1</th>\n",
       "      <td>1</td>\n",
       "      <td>2020-06</td>\n",
       "      <td>2019-08-31</td>\n",
       "      <td>80.893071</td>\n",
       "      <td>Active</td>\n",
       "    </tr>\n",
       "    <tr>\n",
       "      <th>2</th>\n",
       "      <td>1</td>\n",
       "      <td>2020-06</td>\n",
       "      <td>2021-01-31</td>\n",
       "      <td>93.118389</td>\n",
       "      <td>Active</td>\n",
       "    </tr>\n",
       "    <tr>\n",
       "      <th>3</th>\n",
       "      <td>1</td>\n",
       "      <td>2020-06</td>\n",
       "      <td>2021-04-30</td>\n",
       "      <td>115.015718</td>\n",
       "      <td>Active</td>\n",
       "    </tr>\n",
       "    <tr>\n",
       "      <th>4</th>\n",
       "      <td>1</td>\n",
       "      <td>2020-06</td>\n",
       "      <td>2021-07-31</td>\n",
       "      <td>94.836304</td>\n",
       "      <td>Active</td>\n",
       "    </tr>\n",
       "  </tbody>\n",
       "</table>\n",
       "</div>"
      ],
      "text/plain": [
       "   Customer_ID   Cohort Transaction_Date      Amount   State\n",
       "0            1  2020-06       2019-02-28   97.894857  Active\n",
       "1            1  2020-06       2019-08-31   80.893071  Active\n",
       "2            1  2020-06       2021-01-31   93.118389  Active\n",
       "3            1  2020-06       2021-04-30  115.015718  Active\n",
       "4            1  2020-06       2021-07-31   94.836304  Active"
      ]
     },
     "execution_count": 43,
     "metadata": {},
     "output_type": "execute_result"
    }
   ],
   "source": [
    "transactions_df.head()"
   ]
  },
  {
   "cell_type": "code",
   "execution_count": 18,
   "id": "f2bf4d82-1f8a-41c7-9280-5d42d7cb578c",
   "metadata": {},
   "outputs": [
    {
     "data": {
      "text/html": [
       "<div>\n",
       "<style scoped>\n",
       "    .dataframe tbody tr th:only-of-type {\n",
       "        vertical-align: middle;\n",
       "    }\n",
       "\n",
       "    .dataframe tbody tr th {\n",
       "        vertical-align: top;\n",
       "    }\n",
       "\n",
       "    .dataframe thead th {\n",
       "        text-align: right;\n",
       "    }\n",
       "</style>\n",
       "<table border=\"1\" class=\"dataframe\">\n",
       "  <thead>\n",
       "    <tr style=\"text-align: right;\">\n",
       "      <th></th>\n",
       "      <th>Customer_ID</th>\n",
       "      <th>Transaction_Date</th>\n",
       "      <th>Amount</th>\n",
       "    </tr>\n",
       "  </thead>\n",
       "  <tbody>\n",
       "    <tr>\n",
       "      <th>count</th>\n",
       "      <td>524.000000</td>\n",
       "      <td>524</td>\n",
       "      <td>524.000000</td>\n",
       "    </tr>\n",
       "    <tr>\n",
       "      <th>mean</th>\n",
       "      <td>50.501908</td>\n",
       "      <td>2020-07-27 11:27:01.374045696</td>\n",
       "      <td>101.450419</td>\n",
       "    </tr>\n",
       "    <tr>\n",
       "      <th>min</th>\n",
       "      <td>1.000000</td>\n",
       "      <td>2019-01-31 00:00:00</td>\n",
       "      <td>30.383823</td>\n",
       "    </tr>\n",
       "    <tr>\n",
       "      <th>25%</th>\n",
       "      <td>27.000000</td>\n",
       "      <td>2019-09-30 00:00:00</td>\n",
       "      <td>86.996859</td>\n",
       "    </tr>\n",
       "    <tr>\n",
       "      <th>50%</th>\n",
       "      <td>52.000000</td>\n",
       "      <td>2020-07-31 00:00:00</td>\n",
       "      <td>100.993959</td>\n",
       "    </tr>\n",
       "    <tr>\n",
       "      <th>75%</th>\n",
       "      <td>75.000000</td>\n",
       "      <td>2021-04-30 00:00:00</td>\n",
       "      <td>116.208694</td>\n",
       "    </tr>\n",
       "    <tr>\n",
       "      <th>max</th>\n",
       "      <td>100.000000</td>\n",
       "      <td>2021-12-31 00:00:00</td>\n",
       "      <td>158.467112</td>\n",
       "    </tr>\n",
       "    <tr>\n",
       "      <th>std</th>\n",
       "      <td>28.150952</td>\n",
       "      <td>NaN</td>\n",
       "      <td>21.331717</td>\n",
       "    </tr>\n",
       "  </tbody>\n",
       "</table>\n",
       "</div>"
      ],
      "text/plain": [
       "       Customer_ID               Transaction_Date      Amount\n",
       "count   524.000000                            524  524.000000\n",
       "mean     50.501908  2020-07-27 11:27:01.374045696  101.450419\n",
       "min       1.000000            2019-01-31 00:00:00   30.383823\n",
       "25%      27.000000            2019-09-30 00:00:00   86.996859\n",
       "50%      52.000000            2020-07-31 00:00:00  100.993959\n",
       "75%      75.000000            2021-04-30 00:00:00  116.208694\n",
       "max     100.000000            2021-12-31 00:00:00  158.467112\n",
       "std      28.150952                            NaN   21.331717"
      ]
     },
     "execution_count": 18,
     "metadata": {},
     "output_type": "execute_result"
    }
   ],
   "source": [
    "transactions_df.describe()"
   ]
  },
  {
   "cell_type": "code",
   "execution_count": null,
   "id": "1a330474-1558-4297-b91a-40e1114cd918",
   "metadata": {},
   "outputs": [],
   "source": [
    "transactions_df['Transaction_Month'] = "
   ]
  },
  {
   "cell_type": "code",
   "execution_count": null,
   "id": "3c410937-e1b8-4eaa-86ca-af126da1690c",
   "metadata": {},
   "outputs": [],
   "source": []
  }
 ],
 "metadata": {
  "kernelspec": {
   "display_name": "Python 3 (ipykernel)",
   "language": "python",
   "name": "python3"
  },
  "language_info": {
   "codemirror_mode": {
    "name": "ipython",
    "version": 3
   },
   "file_extension": ".py",
   "mimetype": "text/x-python",
   "name": "python",
   "nbconvert_exporter": "python",
   "pygments_lexer": "ipython3",
   "version": "3.12.4"
  }
 },
 "nbformat": 4,
 "nbformat_minor": 5
}
