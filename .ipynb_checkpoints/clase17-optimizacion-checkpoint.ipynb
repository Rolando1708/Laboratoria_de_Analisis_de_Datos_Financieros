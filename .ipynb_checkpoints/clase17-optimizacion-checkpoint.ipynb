{
 "cells": [
  {
   "cell_type": "markdown",
   "id": "0aa81afa-7e00-4e52-920c-947155af9ddc",
   "metadata": {},
   "source": [
    "# Técnicas de Optimización en el Contexto Empresarial\n",
    "\n",
    "## Objetivo de la Sesión\n",
    "\n",
    "En esta sesión, aprenderemos sobre **técnicas de optimización** y cómo aplicarlas para mejorar la toma de decisiones en un contexto empresarial. Nos enfocaremos en cómo maximizar el retorno sobre la inversión en marketing al optimizar la asignación de capital en diferentes canales de adquisición de clientes. Este tipo de optimización es esencial cuando el **Costo de Adquisición de Clientes (CAC)** no sigue una relación lineal y varía según el canal y el volumen de clientes deseado.\n",
    "\n",
    "---\n",
    "\n",
    "### Introducción a la Optimización\n",
    "\n",
    "**La optimización** es el proceso de encontrar el mejor resultado posible bajo un conjunto de restricciones. En el contexto empresarial, esto implica maximizar o minimizar un indicador clave de rendimiento (KPI) o un valor objetivo, como ingresos, CAC o retorno sobre inversión (ROI). La optimización es una herramienta poderosa en el análisis prescriptivo, ya que permite a las empresas decidir cómo asignar sus recursos de manera eficiente.\n",
    "\n",
    "---\n",
    "\n",
    "### Importancia de la Optimización en la Asignación de Presupuesto de Marketing\n",
    "\n",
    "En empresas donde los **canales de adquisición** varían en costo y efectividad, es fundamental determinar la asignación óptima del presupuesto de marketing. Los costos de adquisición tienden a **incrementarse a medida que aumenta el número de usuarios** que se desea adquirir, ya que la competencia se intensifica y se agotan los segmentos de menor costo.\n",
    "\n",
    "**Objetivos Clave:**\n",
    "1. **Minimizar el CAC**: Lograr el menor costo posible por cada usuario adquirido.\n",
    "2. **Maximizar el ARPU (Average Revenue per User)**: Aumentar los ingresos promedio por usuario.\n",
    "3. **Optimizar la Asignación de Capital**: Asignar el presupuesto a los canales con el mejor rendimiento en términos de CAC y ARPU, sujeto a restricciones.\n",
    "\n",
    "---\n",
    "\n",
    "## Método del Caso: Optimización de Presupuesto de Marketing en una Empresa de Software\n",
    "\n",
    "### Contexto del Caso\n",
    "\n",
    "La empresa **TechGrowth**, dedicada a vender suscripciones de software de productividad, quiere aumentar su base de usuarios mientras mantiene un CAC razonable. Sin embargo, el costo de adquirir nuevos usuarios depende del canal y de la cantidad de usuarios que la empresa intenta captar en cada canal. Por ejemplo, adquirir los primeros usuarios a través de Google Ads puede ser más barato, pero a medida que aumentan los usuarios captados, el costo por usuario también sube debido a la competencia.\n",
    "\n",
    "**Canales de Adquisición de Clientes**:\n",
    "1. **Google Ads**: Costoso pero con gran alcance.\n",
    "2. **Facebook Ads**: Moderado en costo, útil para segmentación detallada.\n",
    "3. **Marketing de Contenidos**: Coste inicial bajo, pero requiere tiempo para ver resultados.\n",
    "4. **Publicidad en LinkedIn**: Específico para clientes en el sector empresarial, con un CAC alto, pero mayor conversión.\n",
    "\n",
    "### Objetivo del Caso\n",
    "\n",
    "Optimizar el presupuesto de marketing para maximizar el número de usuarios adquiridos sin sobrepasar el límite del presupuesto asignado. Se busca equilibrar los **costos** y los **resultados** de cada canal para obtener el mejor rendimiento en términos de CAC y usuarios adquiridos.\n",
    "\n",
    "### Restricciones del Caso\n",
    "- **Presupuesto límite**: La empresa dispone de un presupuesto total fijo para asignar entre los canales.\n",
    "- **Costo incremental**: Cada canal tiene un **CAC creciente** a medida que se adquieren más usuarios.\n",
    "- **Objetivo mínimo de usuarios**: La empresa desea captar un número mínimo de usuarios para justificar el gasto de marketing.\n",
    "\n",
    "---\n",
    "\n",
    "## Ejercicio Práctico: Optimización de la Asignación de Presupuesto\n",
    "\n",
    "A continuación, utilizaremos Python y técnicas de optimización para resolver el caso. Vamos a definir y resolver un modelo de optimización en el que asignaremos el presupuesto entre los canales de adquisición con base en el CAC y el número de usuarios objetivo.\n",
    "\n",
    "**Supuestos del Ejercicio**:\n",
    "- Cada canal tiene una función de CAC que depende del número de usuarios adquiridos en ese canal.\n",
    "- El CAC aumenta a medida que se captan más usuarios en un canal específico.\n",
    "\n",
    "---\n",
    "\n",
    "### Paso 1: Definir las Funciones de CAC para Cada Canal\n",
    "\n",
    "Cada canal tendrá una función de costo incremental basada en el número de usuarios que se desean adquirir. Esto simula el aumento en el CAC conforme aumentan los usuarios captados."
   ]
  },
  {
   "cell_type": "code",
   "execution_count": 1,
   "id": "4c1780a8-f2b1-4dc6-8b7a-fe826d3cc6c7",
   "metadata": {
    "tags": []
   },
   "outputs": [],
   "source": [
    "import numpy as np\n",
    "\n",
    "# Ejemplo de funciones de CAC (en USD) en función del número de usuarios adquiridos\n",
    "def cac_google_ads(users):\n",
    "    return 10 + 0.05 * users  # Incremental cost per user\n",
    "\n",
    "def cac_facebook_ads(users):\n",
    "    return 8 + 0.03 * users\n",
    "\n",
    "def cac_content_marketing(users):\n",
    "    return 5 + 0.02 * users\n",
    "\n",
    "def cac_linkedin(users):\n",
    "    return 15 + 0.07 * users"
   ]
  },
  {
   "cell_type": "markdown",
   "id": "4958369f-bcda-4f2f-9a39-0643ed0d6f9f",
   "metadata": {},
   "source": [
    "### Paso 2: Definir el Problema de Optimización\n",
    "Utilizaremos Programación No Lineal para maximizar el número de usuarios sujeto a restricciones de presupuesto."
   ]
  },
  {
   "cell_type": "code",
   "execution_count": 3,
   "id": "74adb441-e8b5-465d-8e1e-5cc46d17a75d",
   "metadata": {
    "tags": []
   },
   "outputs": [
    {
     "name": "stdout",
     "output_type": "stream",
     "text": [
      "Usuarios adquiridos por canal:\n",
      "Google Ads: 103\n",
      "Facebook Ads: 205\n",
      "Marketing de Contenidos: 383\n",
      "LinkedIn: 38\n",
      "Costo total estimado: $10,000.00\n",
      "Usuarios totales adquiridos: 729\n"
     ]
    }
   ],
   "source": [
    "from scipy.optimize import minimize\n",
    "\n",
    "# Presupuesto total en USD\n",
    "budget = 10000\n",
    "\n",
    "# Función de usuarios totales a maximizar\n",
    "def total_users(x):\n",
    "    google_users, fb_users, content_users, linkedin_users = x\n",
    "    return -1 * (google_users + fb_users + content_users + linkedin_users)  # Negativo para maximizar con minimize\n",
    "\n",
    "# Función de costo total, sujeto a la restricción del presupuesto\n",
    "def total_cost(x):\n",
    "    google_users, fb_users, content_users, linkedin_users = x\n",
    "    return (google_users * cac_google_ads(google_users) +\n",
    "            fb_users * cac_facebook_ads(fb_users) +\n",
    "            content_users * cac_content_marketing(content_users) +\n",
    "            linkedin_users * cac_linkedin(linkedin_users))\n",
    "\n",
    "# Restricciones\n",
    "constraints = [\n",
    "    {'type': 'ineq', 'fun': lambda x: budget - total_cost(x)}  # Restricción de presupuesto\n",
    "]\n",
    "\n",
    "# Límite inferior para cada variable (no se pueden adquirir usuarios negativos)\n",
    "bounds = [(0, None), (0, None), (0, None), (0, None)]\n",
    "\n",
    "# Suposición inicial\n",
    "initial_guess = [100, 100, 100, 100]\n",
    "\n",
    "# Resolver el problema de optimización\n",
    "result = minimize(total_users, initial_guess, constraints=constraints, bounds=bounds)\n",
    "\n",
    "# Mostrar resultados\n",
    "print(\"Usuarios adquiridos por canal:\")\n",
    "print(f\"Google Ads: {int(result.x[0])}\")\n",
    "print(f\"Facebook Ads: {int(result.x[1])}\")\n",
    "print(f\"Marketing de Contenidos: {int(result.x[2])}\")\n",
    "print(f\"LinkedIn: {int(result.x[3])}\")\n",
    "print(f\"Costo total estimado: ${total_cost(result.x):,.2f}\")\n",
    "print(f\"Usuarios totales adquiridos: {int(-result.fun)}\")\n"
   ]
  },
  {
   "cell_type": "markdown",
   "id": "6766f542-ea14-4464-8d3d-48cc3e01642e",
   "metadata": {},
   "source": [
    "### Paso 3: Interpretación y Análisis de Resultados\n",
    "- ¿Cuál es la mejor asignación de presupuesto para cada canal?\n",
    "- ¿Qué canales generan un CAC más bajo en función del objetivo de usuarios?\n",
    "- ¿Cómo impacta la restricción de presupuesto en la asignación óptima de usuarios?\n",
    "\n",
    "\n",
    "### Reflexión Final\n",
    "1. Ventajas de la Optimización en el Marketing: Identificar cómo la optimización ayuda a maximizar la adquisición de clientes manteniendo los costos controlados.\n",
    "2. Impacto en la Estrategia de Negocios: Reflexionar sobre cómo la asignación óptima de presupuesto puede influir en el crecimiento de la empresa.\n",
    "3. Consideraciones Futuras: Discutir qué otros factores, como la tasa de conversión o el ARPU, podrían incluirse en futuros análisis de optimización.\n",
    "\n",
    "\n",
    "### Reporte de laboratorio\n",
    "- Discusión en Clase: Discutir los resultados obtenidos y comparar con estrategias de marketing en casos reales.\n",
    "- Trabajo en Equipo:\n",
    "    - Análisis de CAC Incremental: Simula cómo cambian los resultados al ajustar los coeficientes de incremento de CAC en cada canal.\n",
    "    - Simulación de Escenarios: Experimenta con diferentes límites de presupuesto y objetivos de usuarios, observando cómo cambian los resultados de la optimización.\n",
    "    - Visualización de Resultados: Utiliza gráficos para visualizar el costo incremental por usuario y comparar el rendimiento de cada canal."
   ]
  }
 ],
 "metadata": {
  "kernelspec": {
   "display_name": "Python 3 (ipykernel)",
   "language": "python",
   "name": "python3"
  },
  "language_info": {
   "codemirror_mode": {
    "name": "ipython",
    "version": 3
   },
   "file_extension": ".py",
   "mimetype": "text/x-python",
   "name": "python",
   "nbconvert_exporter": "python",
   "pygments_lexer": "ipython3",
   "version": "3.11.5"
  }
 },
 "nbformat": 4,
 "nbformat_minor": 5
}
