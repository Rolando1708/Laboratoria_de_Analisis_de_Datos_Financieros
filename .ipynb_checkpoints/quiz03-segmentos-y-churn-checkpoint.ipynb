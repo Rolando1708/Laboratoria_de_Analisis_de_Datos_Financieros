{
 "cells": [
  {
   "cell_type": "markdown",
   "id": "8c19b5af",
   "metadata": {},
   "source": [
    "# Segmentos y Churn de Hotel VIP\n",
    "\n",
    "## Objetivo:\n",
    "\n",
    "Como dueño de un hotel famoso y con muchas transacciones, registro comercial pendiente a confirmar, deseo saber cuales son mis segmentos de clientes y que segmento es el que tiene mayor perdida porcentual de clientes.\n",
    "\n",
    "\n",
    "## Datos:\n",
    "\n",
    "- tlacuachitos_vip_transactions.csv\n",
    "- tlacuachitos_vip_customers_data.csv\n",
    "\n",
    "## Actividad 1)\n",
    "- Elabora y explica segmentos de clientes que podría usar para realizar mi dirección estratégica.\n",
    "\n",
    "## Actividad 2)\n",
    "- Calcula y obtén el porcentaje de clientes perdidos que tengo en cada segmento"
   ]
  }
 ],
 "metadata": {
  "kernelspec": {
   "display_name": "Python 3 (ipykernel)",
   "language": "python",
   "name": "python3"
  },
  "language_info": {
   "codemirror_mode": {
    "name": "ipython",
    "version": 3
   },
   "file_extension": ".py",
   "mimetype": "text/x-python",
   "name": "python",
   "nbconvert_exporter": "python",
   "pygments_lexer": "ipython3",
   "version": "3.11.5"
  }
 },
 "nbformat": 4,
 "nbformat_minor": 5
}
