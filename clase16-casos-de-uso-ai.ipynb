{
 "cells": [
  {
   "cell_type": "markdown",
   "id": "0d7ce1f0-0921-4257-9388-4aefb2befa34",
   "metadata": {},
   "source": [
    "# Categorización y Análisis de Juegos en el Contexto de AI Generativa\n",
    "\n",
    "## Objetivo de la Sesión\n",
    "\n",
    "El objetivo de esta sesión es entender cómo **AI generativa** puede ser aplicada para analizar grandes cantidades de contenido, como juegos, y generar insights clave. Para ello, utilizaremos APIs de OpenAI y otras herramientas para automatizar y optimizar el análisis de juegos en plataformas extensas como Roblox. Aprenderemos a clasificar juegos y evaluar su contenido, proporcionando a los padres un mejor entendimiento de los tipos de juegos a los que sus hijos están expuestos.\n",
    "\n",
    "---\n",
    "\n",
    "### ¿Qué es un API?\n",
    "\n",
    "Un **API** (Application Programming Interface) es un conjunto de definiciones y protocolos que permite que un software se comunique con otro. En esta sesión, trabajaremos con APIs de herramientas como OpenAI, Google Translate, y bases de datos. Usaremos estas APIs para procesar información masiva de manera eficiente y analizar juegos.\n",
    "\n",
    "**Ejemplos de APIs:**\n",
    "- **OpenAI API**: Para obtener embeddings de texto que nos ayudarán a categorizar y comparar contenidos.\n",
    "- **Google Translate API**: Para traducir textos cuando el idioma de un juego específico no coincide con el idioma deseado de salida.\n",
    "- **Roblox API**: Para obtener información detallada de los juegos, como género, nombre y descripción.\n",
    "\n",
    "---\n",
    "\n",
    "### Caso Práctico: Gabu y el Análisis de Juegos en Roblox\n",
    "\n",
    "**Contexto del Caso**:\n",
    "- **Problema**: Gabu, una empresa de monitoreo de juegos en línea, busca brindar información a los padres sobre los juegos que sus hijos juegan en Roblox, plataforma con más de 40 millones de juegos.\n",
    "- **Objetivo de Negocio**: Permitir que los padres conozcan el contenido y categoría de los juegos de sus hijos, detectando posibles riesgos como contenido inapropiado, violencia o interacción social excesiva.\n",
    "- **Restricciones**:\n",
    "  - La clasificación debe ser rápida y precisa.\n",
    "  - Proteger la privacidad de los datos de los usuarios.\n",
    "  - Minimizar los costos y tiempo de procesamiento en la obtención de resultados.\n",
    "\n",
    "#### Objetivos Específicos\n",
    "1. **Clasificación de Juegos**: Utilizar embeddings para categorizar los juegos según su contenido.\n",
    "2. **Análisis de Riesgo de Contenido**: Evaluar y etiquetar juegos en función de criterios como \"Contenido Violento\", \"Interacción Social\", y \"Monetización\".\n",
    "3. **Generación de Resumen de Juego**: Proporcionar un resumen de cada juego que sea fácil de entender y relevante para los padres.\n",
    "\n",
    "---"
   ]
  },
  {
   "cell_type": "markdown",
   "id": "340e0d89-36fd-4a33-af44-af5ce65f3a06",
   "metadata": {},
   "source": [
    "### Caso Práctico: Gabu y el Análisis de Audio\n",
    "\n",
    "**Contexto del Caso**:\n",
    "- **Problema**: Gabu, una empresa de monitoreo de juegos en línea, busca brindar información a los padres sobre las sesiones que tienen en linea sus hijos.\n",
    "- **Objetivo de Negocio**: Permitir a los padres tener conclusiones sobre las sesiones de juego para ampliar el úso de la aplicación por los padres.\n",
    "- **Restricciones**:\n",
    "  - El análisis tiene que ser en batch y en primeras instancias no mandarse automáticamente para analizar los resultados.\n",
    "  - Proteger la privacidad de los niños.\n",
    "  - Minimizar los costos y tiempo de procesamiento en la obtención de resultados.\n",
    "\n",
    "---"
   ]
  },
  {
   "cell_type": "code",
   "execution_count": 1,
   "id": "959062d4-f730-4a38-9712-a607bddb21fe",
   "metadata": {},
   "outputs": [
    {
     "name": "stdout",
     "output_type": "stream",
     "text": [
      "Collecting openai\n",
      "  Downloading openai-1.54.1-py3-none-any.whl.metadata (24 kB)\n",
      "Requirement already satisfied: anyio<5,>=3.5.0 in /opt/anaconda3/lib/python3.12/site-packages (from openai) (4.2.0)\n",
      "Requirement already satisfied: distro<2,>=1.7.0 in /opt/anaconda3/lib/python3.12/site-packages (from openai) (1.9.0)\n",
      "Requirement already satisfied: httpx<1,>=0.23.0 in /opt/anaconda3/lib/python3.12/site-packages (from openai) (0.27.0)\n",
      "Collecting jiter<1,>=0.4.0 (from openai)\n",
      "  Downloading jiter-0.7.0-cp312-cp312-macosx_11_0_arm64.whl.metadata (5.2 kB)\n",
      "Requirement already satisfied: pydantic<3,>=1.9.0 in /opt/anaconda3/lib/python3.12/site-packages (from openai) (2.5.3)\n",
      "Requirement already satisfied: sniffio in /opt/anaconda3/lib/python3.12/site-packages (from openai) (1.3.0)\n",
      "Requirement already satisfied: tqdm>4 in /opt/anaconda3/lib/python3.12/site-packages (from openai) (4.66.4)\n",
      "Requirement already satisfied: typing-extensions<5,>=4.11 in /opt/anaconda3/lib/python3.12/site-packages (from openai) (4.11.0)\n",
      "Requirement already satisfied: idna>=2.8 in /opt/anaconda3/lib/python3.12/site-packages (from anyio<5,>=3.5.0->openai) (3.7)\n",
      "Requirement already satisfied: certifi in /opt/anaconda3/lib/python3.12/site-packages (from httpx<1,>=0.23.0->openai) (2024.7.4)\n",
      "Requirement already satisfied: httpcore==1.* in /opt/anaconda3/lib/python3.12/site-packages (from httpx<1,>=0.23.0->openai) (1.0.2)\n",
      "Requirement already satisfied: h11<0.15,>=0.13 in /opt/anaconda3/lib/python3.12/site-packages (from httpcore==1.*->httpx<1,>=0.23.0->openai) (0.14.0)\n",
      "Requirement already satisfied: annotated-types>=0.4.0 in /opt/anaconda3/lib/python3.12/site-packages (from pydantic<3,>=1.9.0->openai) (0.6.0)\n",
      "Requirement already satisfied: pydantic-core==2.14.6 in /opt/anaconda3/lib/python3.12/site-packages (from pydantic<3,>=1.9.0->openai) (2.14.6)\n",
      "Downloading openai-1.54.1-py3-none-any.whl (389 kB)\n",
      "\u001b[2K   \u001b[90m━━━━━━━━━━━━━━━━━━━━━━━━━━━━━━━━━━━━━━━━\u001b[0m \u001b[32m389.3/389.3 kB\u001b[0m \u001b[31m3.3 MB/s\u001b[0m eta \u001b[36m0:00:00\u001b[0m00:01\u001b[0m00:01\u001b[0m\n",
      "\u001b[?25hDownloading jiter-0.7.0-cp312-cp312-macosx_11_0_arm64.whl (302 kB)\n",
      "\u001b[2K   \u001b[90m━━━━━━━━━━━━━━━━━━━━━━━━━━━━━━━━━━━━━━━━\u001b[0m \u001b[32m302.8/302.8 kB\u001b[0m \u001b[31m16.9 MB/s\u001b[0m eta \u001b[36m0:00:00\u001b[0m\n",
      "\u001b[?25hInstalling collected packages: jiter, openai\n",
      "Successfully installed jiter-0.7.0 openai-1.54.1\n"
     ]
    }
   ],
   "source": [
    "!pip install openai"
   ]
  },
  {
   "cell_type": "code",
   "execution_count": null,
   "id": "9beeeb46-deab-45bd-85e4-ed1f09c69066",
   "metadata": {},
   "outputs": [],
   "source": []
  }
 ],
 "metadata": {
  "kernelspec": {
   "display_name": "Python 3 (ipykernel)",
   "language": "python",
   "name": "python3"
  },
  "language_info": {
   "codemirror_mode": {
    "name": "ipython",
    "version": 3
   },
   "file_extension": ".py",
   "mimetype": "text/x-python",
   "name": "python",
   "nbconvert_exporter": "python",
   "pygments_lexer": "ipython3",
   "version": "3.12.4"
  }
 },
 "nbformat": 4,
 "nbformat_minor": 5
}
